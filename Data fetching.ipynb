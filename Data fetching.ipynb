{
 "cells": [
  {
   "cell_type": "code",
   "execution_count": 1,
   "id": "aabd1781",
   "metadata": {},
   "outputs": [],
   "source": [
    "import numpy as np \n",
    "import pandas as pd \n",
    "import requests\n",
    "import json\n",
    "from functools import reduce"
   ]
  },
  {
   "cell_type": "code",
   "execution_count": 2,
   "id": "a5396d36",
   "metadata": {},
   "outputs": [
    {
     "data": {
      "text/html": [
       "<div>\n",
       "<style scoped>\n",
       "    .dataframe tbody tr th:only-of-type {\n",
       "        vertical-align: middle;\n",
       "    }\n",
       "\n",
       "    .dataframe tbody tr th {\n",
       "        vertical-align: top;\n",
       "    }\n",
       "\n",
       "    .dataframe thead th {\n",
       "        text-align: right;\n",
       "    }\n",
       "</style>\n",
       "<table border=\"1\" class=\"dataframe\">\n",
       "  <thead>\n",
       "    <tr style=\"text-align: right;\">\n",
       "      <th></th>\n",
       "      <th>id</th>\n",
       "      <th>dialect</th>\n",
       "    </tr>\n",
       "  </thead>\n",
       "  <tbody>\n",
       "    <tr>\n",
       "      <th>0</th>\n",
       "      <td>1175358310087892992</td>\n",
       "      <td>IQ</td>\n",
       "    </tr>\n",
       "    <tr>\n",
       "      <th>1</th>\n",
       "      <td>1175416117793349632</td>\n",
       "      <td>IQ</td>\n",
       "    </tr>\n",
       "    <tr>\n",
       "      <th>2</th>\n",
       "      <td>1175450108898565888</td>\n",
       "      <td>IQ</td>\n",
       "    </tr>\n",
       "    <tr>\n",
       "      <th>3</th>\n",
       "      <td>1175471073770573824</td>\n",
       "      <td>IQ</td>\n",
       "    </tr>\n",
       "    <tr>\n",
       "      <th>4</th>\n",
       "      <td>1175496913145217024</td>\n",
       "      <td>IQ</td>\n",
       "    </tr>\n",
       "  </tbody>\n",
       "</table>\n",
       "</div>"
      ],
      "text/plain": [
       "                    id dialect\n",
       "0  1175358310087892992      IQ\n",
       "1  1175416117793349632      IQ\n",
       "2  1175450108898565888      IQ\n",
       "3  1175471073770573824      IQ\n",
       "4  1175496913145217024      IQ"
      ]
     },
     "execution_count": 2,
     "metadata": {},
     "output_type": "execute_result"
    }
   ],
   "source": [
    "df = pd.read_csv('dialect_dataset.csv') \n",
    "df.head()"
   ]
  },
  {
   "cell_type": "code",
   "execution_count": 3,
   "id": "65ec5346",
   "metadata": {},
   "outputs": [
    {
     "name": "stdout",
     "output_type": "stream",
     "text": [
      "<class 'pandas.core.frame.DataFrame'>\n",
      "RangeIndex: 458197 entries, 0 to 458196\n",
      "Data columns (total 2 columns):\n",
      " #   Column   Non-Null Count   Dtype \n",
      "---  ------   --------------   ----- \n",
      " 0   id       458197 non-null  int64 \n",
      " 1   dialect  458197 non-null  object\n",
      "dtypes: int64(1), object(1)\n",
      "memory usage: 7.0+ MB\n"
     ]
    }
   ],
   "source": [
    "df.info()"
   ]
  },
  {
   "cell_type": "markdown",
   "id": "0d0ed976",
   "metadata": {},
   "source": [
    "**In first we test how to post to API by id number** \n"
   ]
  },
  {
   "cell_type": "code",
   "execution_count": 4,
   "id": "5dc2c853",
   "metadata": {},
   "outputs": [],
   "source": [
    "url = \"https://recruitment.aimtechnologies.co/ai-tasks\"\n",
    "r = requests.post(url,json=['1055620304465215616','1057418989293485952'])\n"
   ]
  },
  {
   "cell_type": "code",
   "execution_count": 5,
   "id": "bc731f23",
   "metadata": {},
   "outputs": [
    {
     "data": {
      "text/plain": [
       "'{\"1055620304465215616\":\"@MahmoudWaked7 @maganenoo في طريق مطروح مركز بهيج  والمركز الي الي جمبه اسمه ايه😂😂\",\"1057418989293485952\":\"@mycousinvinnyys @hanyamikhail1 متهيالي دي شكولاته الهالوين  فين المحل ده\"}'"
      ]
     },
     "execution_count": 5,
     "metadata": {},
     "output_type": "execute_result"
    }
   ],
   "source": [
    "r.text"
   ]
  },
  {
   "cell_type": "code",
   "execution_count": 6,
   "id": "b253ba59",
   "metadata": {},
   "outputs": [
    {
     "data": {
      "text/plain": [
       "{'1055620304465215616': '@MahmoudWaked7 @maganenoo في طريق مطروح مركز بهيج  والمركز الي الي جمبه اسمه ايه😂😂',\n",
       " '1057418989293485952': '@mycousinvinnyys @hanyamikhail1 متهيالي دي شكولاته الهالوين  فين المحل ده'}"
      ]
     },
     "execution_count": 6,
     "metadata": {},
     "output_type": "execute_result"
    }
   ],
   "source": [
    "r.json()"
   ]
  },
  {
   "cell_type": "markdown",
   "id": "e0e7cfbf",
   "metadata": {},
   "source": [
    "then know what value counts of  every dialect "
   ]
  },
  {
   "cell_type": "code",
   "execution_count": 7,
   "id": "09345983",
   "metadata": {},
   "outputs": [
    {
     "data": {
      "text/plain": [
       "EG    57636\n",
       "PL    43742\n",
       "KW    42109\n",
       "LY    36499\n",
       "QA    31069\n",
       "JO    27921\n",
       "LB    27617\n",
       "SA    26832\n",
       "AE    26296\n",
       "BH    26292\n",
       "OM    19116\n",
       "SY    16242\n",
       "DZ    16183\n",
       "IQ    15497\n",
       "SD    14434\n",
       "MA    11539\n",
       "YE     9927\n",
       "TN     9246\n",
       "Name: dialect, dtype: int64"
      ]
     },
     "execution_count": 7,
     "metadata": {},
     "output_type": "execute_result"
    }
   ],
   "source": [
    "df.dialect.value_counts()"
   ]
  },
  {
   "cell_type": "code",
   "execution_count": 8,
   "id": "ccafe5a5",
   "metadata": {},
   "outputs": [],
   "source": [
    "df['id'] = df['id'].astype(str) # convert the id number to string "
   ]
  },
  {
   "cell_type": "code",
   "execution_count": 9,
   "id": "f1103b90",
   "metadata": {},
   "outputs": [],
   "source": [
    "countries_name = list(set(df.dialect.values)) # get the name of each counrty in list "
   ]
  },
  {
   "cell_type": "markdown",
   "id": "4990d64a",
   "metadata": {},
   "source": [
    "**create two funcations (get_counrty and get text ) \n",
    "- get counrty to get each coun"
   ]
  },
  {
   "cell_type": "code",
   "execution_count": 10,
   "id": "9d74e7e8",
   "metadata": {},
   "outputs": [],
   "source": [
    "def get_country(country_name) :\n",
    "    \n",
    "    \"\"\"\" this funcation to get data frame of country with id and dialect \n",
    "    has one paramter it is the country name as string\n",
    "    \"\"\"\"\n",
    "    country = df.loc[lambda df: df['dialect'] == country_name, :]\n",
    "    country = country.reset_index(drop=True)\n",
    "    return country\n"
   ]
  },
  {
   "cell_type": "code",
   "execution_count": 11,
   "id": "d1626238",
   "metadata": {},
   "outputs": [
    {
     "data": {
      "text/html": [
       "<div>\n",
       "<style scoped>\n",
       "    .dataframe tbody tr th:only-of-type {\n",
       "        vertical-align: middle;\n",
       "    }\n",
       "\n",
       "    .dataframe tbody tr th {\n",
       "        vertical-align: top;\n",
       "    }\n",
       "\n",
       "    .dataframe thead th {\n",
       "        text-align: right;\n",
       "    }\n",
       "</style>\n",
       "<table border=\"1\" class=\"dataframe\">\n",
       "  <thead>\n",
       "    <tr style=\"text-align: right;\">\n",
       "      <th></th>\n",
       "      <th>id</th>\n",
       "      <th>dialect</th>\n",
       "    </tr>\n",
       "  </thead>\n",
       "  <tbody>\n",
       "    <tr>\n",
       "      <th>0</th>\n",
       "      <td>1130199209695744000</td>\n",
       "      <td>EG</td>\n",
       "    </tr>\n",
       "    <tr>\n",
       "      <th>1</th>\n",
       "      <td>1137520472420233216</td>\n",
       "      <td>EG</td>\n",
       "    </tr>\n",
       "    <tr>\n",
       "      <th>2</th>\n",
       "      <td>1137717993172033536</td>\n",
       "      <td>EG</td>\n",
       "    </tr>\n",
       "    <tr>\n",
       "      <th>3</th>\n",
       "      <td>1137810705514684416</td>\n",
       "      <td>EG</td>\n",
       "    </tr>\n",
       "    <tr>\n",
       "      <th>4</th>\n",
       "      <td>1125394999997284352</td>\n",
       "      <td>EG</td>\n",
       "    </tr>\n",
       "    <tr>\n",
       "      <th>...</th>\n",
       "      <td>...</td>\n",
       "      <td>...</td>\n",
       "    </tr>\n",
       "    <tr>\n",
       "      <th>57631</th>\n",
       "      <td>1057418989293485952</td>\n",
       "      <td>EG</td>\n",
       "    </tr>\n",
       "    <tr>\n",
       "      <th>57632</th>\n",
       "      <td>1057775213113495552</td>\n",
       "      <td>EG</td>\n",
       "    </tr>\n",
       "    <tr>\n",
       "      <th>57633</th>\n",
       "      <td>1055620304465215616</td>\n",
       "      <td>EG</td>\n",
       "    </tr>\n",
       "    <tr>\n",
       "      <th>57634</th>\n",
       "      <td>1056641788851744768</td>\n",
       "      <td>EG</td>\n",
       "    </tr>\n",
       "    <tr>\n",
       "      <th>57635</th>\n",
       "      <td>1060901120757907584</td>\n",
       "      <td>EG</td>\n",
       "    </tr>\n",
       "  </tbody>\n",
       "</table>\n",
       "<p>57636 rows × 2 columns</p>\n",
       "</div>"
      ],
      "text/plain": [
       "                        id dialect\n",
       "0      1130199209695744000      EG\n",
       "1      1137520472420233216      EG\n",
       "2      1137717993172033536      EG\n",
       "3      1137810705514684416      EG\n",
       "4      1125394999997284352      EG\n",
       "...                    ...     ...\n",
       "57631  1057418989293485952      EG\n",
       "57632  1057775213113495552      EG\n",
       "57633  1055620304465215616      EG\n",
       "57634  1056641788851744768      EG\n",
       "57635  1060901120757907584      EG\n",
       "\n",
       "[57636 rows x 2 columns]"
      ]
     },
     "execution_count": 11,
     "metadata": {},
     "output_type": "execute_result"
    }
   ],
   "source": [
    "df_EG = get_country('EG')\n",
    "df_EG"
   ]
  },
  {
   "cell_type": "code",
   "execution_count": 12,
   "id": "66445243",
   "metadata": {},
   "outputs": [],
   "source": [
    "def get_text (country) :\n",
    "    country_text=[]\n",
    "    for i in range(0,len(country),100):\n",
    "        list_of_string = country.id[i:100+i]\n",
    "        r = requests.post(url,json=[i for i in list_of_string])\n",
    "        text=r.json()\n",
    "        df =  pd.DataFrame(list(text.items()),columns=['id','text'])\n",
    "        #print(c)\n",
    "        country_text.append(df)\n",
    "    #country_text = reduce(lambda  left,right: pd.merge(left,right,on=['text'],how='outer'),country_text)\n",
    "    country_text = pd.concat(country_text)\n",
    "    country_text = country_text.reset_index(drop=True)\n",
    "    country_text = country_text.merge(country,on=['id'],how='right')\n",
    "    return country_text\n",
    "    "
   ]
  },
  {
   "cell_type": "code",
   "execution_count": 13,
   "id": "27889b57",
   "metadata": {},
   "outputs": [],
   "source": [
    "new_data = []\n",
    "for i in countries_name :\n",
    "    country = get_country(i)\n",
    "    country = get_text(country)\n",
    "    new_data.append(country)\n",
    "    \n",
    "new_data = pd.concat(new_data)\n",
    "new_data = new_data.reset_index(drop=True)    \n",
    "    \n",
    "    "
   ]
  },
  {
   "cell_type": "code",
   "execution_count": 14,
   "id": "b2c533a6",
   "metadata": {},
   "outputs": [
    {
     "data": {
      "text/html": [
       "<div>\n",
       "<style scoped>\n",
       "    .dataframe tbody tr th:only-of-type {\n",
       "        vertical-align: middle;\n",
       "    }\n",
       "\n",
       "    .dataframe tbody tr th {\n",
       "        vertical-align: top;\n",
       "    }\n",
       "\n",
       "    .dataframe thead th {\n",
       "        text-align: right;\n",
       "    }\n",
       "</style>\n",
       "<table border=\"1\" class=\"dataframe\">\n",
       "  <thead>\n",
       "    <tr style=\"text-align: right;\">\n",
       "      <th></th>\n",
       "      <th>id</th>\n",
       "      <th>text</th>\n",
       "      <th>dialect</th>\n",
       "    </tr>\n",
       "  </thead>\n",
       "  <tbody>\n",
       "    <tr>\n",
       "      <th>0</th>\n",
       "      <td>1121525449874604032</td>\n",
       "      <td>#الخميس_الونيس\\n\\nانتو ملاحظين أن الغلطان هالأ...</td>\n",
       "      <td>KW</td>\n",
       "    </tr>\n",
       "    <tr>\n",
       "      <th>1</th>\n",
       "      <td>1123251810955865984</td>\n",
       "      <td>من الحين قاعد اضحك على اللي راح يصور ويكتب آخر...</td>\n",
       "      <td>KW</td>\n",
       "    </tr>\n",
       "    <tr>\n",
       "      <th>2</th>\n",
       "      <td>1124892962859683840</td>\n",
       "      <td>نرجو عدم التأليف بارسال التهاني برمضان او العي...</td>\n",
       "      <td>KW</td>\n",
       "    </tr>\n",
       "    <tr>\n",
       "      <th>3</th>\n",
       "      <td>1127803659478290432</td>\n",
       "      <td>@araaaatv ماراح تتعداك حوبة هالمسكين مهما بلغت...</td>\n",
       "      <td>KW</td>\n",
       "    </tr>\n",
       "    <tr>\n",
       "      <th>4</th>\n",
       "      <td>1129889371375755264</td>\n",
       "      <td>انت سد الفراغ اللي بشنبك بعدين سد فراغها العاطفي</td>\n",
       "      <td>KW</td>\n",
       "    </tr>\n",
       "    <tr>\n",
       "      <th>...</th>\n",
       "      <td>...</td>\n",
       "      <td>...</td>\n",
       "      <td>...</td>\n",
       "    </tr>\n",
       "    <tr>\n",
       "      <th>458192</th>\n",
       "      <td>1057418989293485952</td>\n",
       "      <td>@mycousinvinnyys @hanyamikhail1 متهيالي دي شكو...</td>\n",
       "      <td>EG</td>\n",
       "    </tr>\n",
       "    <tr>\n",
       "      <th>458193</th>\n",
       "      <td>1057775213113495552</td>\n",
       "      <td>@mycousinvinnyys @diamond_mamy ماعرفش  لايصح غ...</td>\n",
       "      <td>EG</td>\n",
       "    </tr>\n",
       "    <tr>\n",
       "      <th>458194</th>\n",
       "      <td>1055620304465215616</td>\n",
       "      <td>@MahmoudWaked7 @maganenoo في طريق مطروح مركز ب...</td>\n",
       "      <td>EG</td>\n",
       "    </tr>\n",
       "    <tr>\n",
       "      <th>458195</th>\n",
       "      <td>1056641788851744768</td>\n",
       "      <td>@FayedSasa للاسف شعب يجري وراء الازمات بيحبوا ...</td>\n",
       "      <td>EG</td>\n",
       "    </tr>\n",
       "    <tr>\n",
       "      <th>458196</th>\n",
       "      <td>1060901120757907584</td>\n",
       "      <td>@hanaramzy62 ردی بیکون هاتفرق معاک فی ایه</td>\n",
       "      <td>EG</td>\n",
       "    </tr>\n",
       "  </tbody>\n",
       "</table>\n",
       "<p>458197 rows × 3 columns</p>\n",
       "</div>"
      ],
      "text/plain": [
       "                         id  \\\n",
       "0       1121525449874604032   \n",
       "1       1123251810955865984   \n",
       "2       1124892962859683840   \n",
       "3       1127803659478290432   \n",
       "4       1129889371375755264   \n",
       "...                     ...   \n",
       "458192  1057418989293485952   \n",
       "458193  1057775213113495552   \n",
       "458194  1055620304465215616   \n",
       "458195  1056641788851744768   \n",
       "458196  1060901120757907584   \n",
       "\n",
       "                                                     text dialect  \n",
       "0       #الخميس_الونيس\\n\\nانتو ملاحظين أن الغلطان هالأ...      KW  \n",
       "1       من الحين قاعد اضحك على اللي راح يصور ويكتب آخر...      KW  \n",
       "2       نرجو عدم التأليف بارسال التهاني برمضان او العي...      KW  \n",
       "3       @araaaatv ماراح تتعداك حوبة هالمسكين مهما بلغت...      KW  \n",
       "4        انت سد الفراغ اللي بشنبك بعدين سد فراغها العاطفي      KW  \n",
       "...                                                   ...     ...  \n",
       "458192  @mycousinvinnyys @hanyamikhail1 متهيالي دي شكو...      EG  \n",
       "458193  @mycousinvinnyys @diamond_mamy ماعرفش  لايصح غ...      EG  \n",
       "458194  @MahmoudWaked7 @maganenoo في طريق مطروح مركز ب...      EG  \n",
       "458195  @FayedSasa للاسف شعب يجري وراء الازمات بيحبوا ...      EG  \n",
       "458196          @hanaramzy62 ردی بیکون هاتفرق معاک فی ایه      EG  \n",
       "\n",
       "[458197 rows x 3 columns]"
      ]
     },
     "execution_count": 14,
     "metadata": {},
     "output_type": "execute_result"
    }
   ],
   "source": [
    "new_data"
   ]
  },
  {
   "cell_type": "code",
   "execution_count": 15,
   "id": "2451daa5",
   "metadata": {},
   "outputs": [
    {
     "name": "stdout",
     "output_type": "stream",
     "text": [
      "<class 'pandas.core.frame.DataFrame'>\n",
      "RangeIndex: 458197 entries, 0 to 458196\n",
      "Data columns (total 3 columns):\n",
      " #   Column   Non-Null Count   Dtype \n",
      "---  ------   --------------   ----- \n",
      " 0   id       458197 non-null  object\n",
      " 1   text     458197 non-null  object\n",
      " 2   dialect  458197 non-null  object\n",
      "dtypes: object(3)\n",
      "memory usage: 10.5+ MB\n"
     ]
    }
   ],
   "source": [
    "new_data.info()"
   ]
  },
  {
   "cell_type": "code",
   "execution_count": 17,
   "id": "6e19198b",
   "metadata": {},
   "outputs": [
    {
     "data": {
      "text/plain": [
       "EG    57636\n",
       "PL    43742\n",
       "KW    42109\n",
       "LY    36499\n",
       "QA    31069\n",
       "JO    27921\n",
       "LB    27617\n",
       "SA    26832\n",
       "AE    26296\n",
       "BH    26292\n",
       "OM    19116\n",
       "SY    16242\n",
       "DZ    16183\n",
       "IQ    15497\n",
       "SD    14434\n",
       "MA    11539\n",
       "YE     9927\n",
       "TN     9246\n",
       "Name: dialect, dtype: int64"
      ]
     },
     "execution_count": 17,
     "metadata": {},
     "output_type": "execute_result"
    }
   ],
   "source": [
    "new_data.dialect.value_counts()"
   ]
  },
  {
   "cell_type": "code",
   "execution_count": 19,
   "id": "fe26e50a",
   "metadata": {},
   "outputs": [],
   "source": [
    "new_data.to_csv('new_dialect_dataset.csv')"
   ]
  },
  {
   "cell_type": "code",
   "execution_count": null,
   "id": "70f1e580",
   "metadata": {},
   "outputs": [],
   "source": []
  }
 ],
 "metadata": {
  "kernelspec": {
   "display_name": "Python 3 (ipykernel)",
   "language": "python",
   "name": "python3"
  },
  "language_info": {
   "codemirror_mode": {
    "name": "ipython",
    "version": 3
   },
   "file_extension": ".py",
   "mimetype": "text/x-python",
   "name": "python",
   "nbconvert_exporter": "python",
   "pygments_lexer": "ipython3",
   "version": "3.9.7"
  }
 },
 "nbformat": 4,
 "nbformat_minor": 5
}
