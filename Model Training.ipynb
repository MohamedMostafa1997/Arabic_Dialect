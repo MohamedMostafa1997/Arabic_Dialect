{
 "cells": [
  {
   "cell_type": "code",
   "execution_count": 23,
   "id": "fd1efff6",
   "metadata": {},
   "outputs": [
    {
     "name": "stdout",
     "output_type": "stream",
     "text": [
      "Requirement already satisfied: pyarabic in c:\\users\\mohamed\\anaconda3\\lib\\site-packages (0.6.14)\n",
      "Requirement already satisfied: six>=1.14.0 in c:\\users\\mohamed\\anaconda3\\lib\\site-packages (from pyarabic) (1.16.0)\n"
     ]
    }
   ],
   "source": [
    "!pip install pyarabic"
   ]
  },
  {
   "cell_type": "code",
   "execution_count": 1,
   "id": "e5112b02",
   "metadata": {},
   "outputs": [
    {
     "name": "stderr",
     "output_type": "stream",
     "text": [
      "[nltk_data] Downloading package stopwords to\n",
      "[nltk_data]     C:\\Users\\Mohamed\\AppData\\Roaming\\nltk_data...\n",
      "[nltk_data]   Package stopwords is already up-to-date!\n"
     ]
    }
   ],
   "source": [
    "import numpy as np\n",
    "import pandas as pd\n",
    "import string\n",
    "import re\n",
    "import nltk\n",
    "import matplotlib.pyplot as plt\n",
    "import seaborn as sns\n",
    "#nltk.download('stopwords')\n",
    "#from nltk.corpus import stopwords\n",
    "\n",
    "from nltk.tokenize import RegexpTokenizer\n",
    "from nltk import word_tokenize\n",
    "import Data_pre_processing as process #Data_pre_processing script\n",
    "from sklearn.preprocessing import LabelEncoder\n",
    "from sklearn import model_selection\n",
    "from sklearn import metrics\n",
    "from sklearn.feature_extraction.text import CountVectorizer\n",
    "from sklearn.linear_model import PassiveAggressiveClassifier\n",
    "from sklearn.linear_model import RidgeClassifier\n",
    "from sklearn.feature_extraction.text import TfidfTransformer\n",
    "from sklearn.feature_extraction.text import TfidfVectorizer\n",
    "from sklearn.naive_bayes import MultinomialNB\n",
    "from sklearn.ensemble import GradientBoostingClassifier\n",
    "#from sklearn.svm import SVC\n",
    "from sklearn.neural_network import MLPClassifier\n",
    "from sklearn.pipeline import Pipeline\n",
    "import pickle\n",
    "#from sklearn.externals import joblib"
   ]
  },
  {
   "cell_type": "code",
   "execution_count": 2,
   "id": "f69ef71a",
   "metadata": {},
   "outputs": [
    {
     "data": {
      "text/html": [
       "<div>\n",
       "<style scoped>\n",
       "    .dataframe tbody tr th:only-of-type {\n",
       "        vertical-align: middle;\n",
       "    }\n",
       "\n",
       "    .dataframe tbody tr th {\n",
       "        vertical-align: top;\n",
       "    }\n",
       "\n",
       "    .dataframe thead th {\n",
       "        text-align: right;\n",
       "    }\n",
       "</style>\n",
       "<table border=\"1\" class=\"dataframe\">\n",
       "  <thead>\n",
       "    <tr style=\"text-align: right;\">\n",
       "      <th></th>\n",
       "      <th>id</th>\n",
       "      <th>text</th>\n",
       "      <th>dialect</th>\n",
       "    </tr>\n",
       "  </thead>\n",
       "  <tbody>\n",
       "    <tr>\n",
       "      <th>0</th>\n",
       "      <td>1121525449874604032</td>\n",
       "      <td>#الخميس_الونيس\\n\\nانتو ملاحظين أن الغلطان هالأ...</td>\n",
       "      <td>KW</td>\n",
       "    </tr>\n",
       "    <tr>\n",
       "      <th>1</th>\n",
       "      <td>1123251810955865984</td>\n",
       "      <td>من الحين قاعد اضحك على اللي راح يصور ويكتب آخر...</td>\n",
       "      <td>KW</td>\n",
       "    </tr>\n",
       "    <tr>\n",
       "      <th>2</th>\n",
       "      <td>1124892962859683840</td>\n",
       "      <td>نرجو عدم التأليف بارسال التهاني برمضان او العي...</td>\n",
       "      <td>KW</td>\n",
       "    </tr>\n",
       "    <tr>\n",
       "      <th>3</th>\n",
       "      <td>1127803659478290432</td>\n",
       "      <td>@araaaatv ماراح تتعداك حوبة هالمسكين مهما بلغت...</td>\n",
       "      <td>KW</td>\n",
       "    </tr>\n",
       "    <tr>\n",
       "      <th>4</th>\n",
       "      <td>1129889371375755264</td>\n",
       "      <td>انت سد الفراغ اللي بشنبك بعدين سد فراغها العاطفي</td>\n",
       "      <td>KW</td>\n",
       "    </tr>\n",
       "    <tr>\n",
       "      <th>...</th>\n",
       "      <td>...</td>\n",
       "      <td>...</td>\n",
       "      <td>...</td>\n",
       "    </tr>\n",
       "    <tr>\n",
       "      <th>458192</th>\n",
       "      <td>1057418989293485952</td>\n",
       "      <td>@mycousinvinnyys @hanyamikhail1 متهيالي دي شكو...</td>\n",
       "      <td>EG</td>\n",
       "    </tr>\n",
       "    <tr>\n",
       "      <th>458193</th>\n",
       "      <td>1057775213113495552</td>\n",
       "      <td>@mycousinvinnyys @diamond_mamy ماعرفش  لايصح غ...</td>\n",
       "      <td>EG</td>\n",
       "    </tr>\n",
       "    <tr>\n",
       "      <th>458194</th>\n",
       "      <td>1055620304465215616</td>\n",
       "      <td>@MahmoudWaked7 @maganenoo في طريق مطروح مركز ب...</td>\n",
       "      <td>EG</td>\n",
       "    </tr>\n",
       "    <tr>\n",
       "      <th>458195</th>\n",
       "      <td>1056641788851744768</td>\n",
       "      <td>@FayedSasa للاسف شعب يجري وراء الازمات بيحبوا ...</td>\n",
       "      <td>EG</td>\n",
       "    </tr>\n",
       "    <tr>\n",
       "      <th>458196</th>\n",
       "      <td>1060901120757907584</td>\n",
       "      <td>@hanaramzy62 ردی بیکون هاتفرق معاک فی ایه</td>\n",
       "      <td>EG</td>\n",
       "    </tr>\n",
       "  </tbody>\n",
       "</table>\n",
       "<p>458197 rows × 3 columns</p>\n",
       "</div>"
      ],
      "text/plain": [
       "                         id  \\\n",
       "0       1121525449874604032   \n",
       "1       1123251810955865984   \n",
       "2       1124892962859683840   \n",
       "3       1127803659478290432   \n",
       "4       1129889371375755264   \n",
       "...                     ...   \n",
       "458192  1057418989293485952   \n",
       "458193  1057775213113495552   \n",
       "458194  1055620304465215616   \n",
       "458195  1056641788851744768   \n",
       "458196  1060901120757907584   \n",
       "\n",
       "                                                     text dialect  \n",
       "0       #الخميس_الونيس\\n\\nانتو ملاحظين أن الغلطان هالأ...      KW  \n",
       "1       من الحين قاعد اضحك على اللي راح يصور ويكتب آخر...      KW  \n",
       "2       نرجو عدم التأليف بارسال التهاني برمضان او العي...      KW  \n",
       "3       @araaaatv ماراح تتعداك حوبة هالمسكين مهما بلغت...      KW  \n",
       "4        انت سد الفراغ اللي بشنبك بعدين سد فراغها العاطفي      KW  \n",
       "...                                                   ...     ...  \n",
       "458192  @mycousinvinnyys @hanyamikhail1 متهيالي دي شكو...      EG  \n",
       "458193  @mycousinvinnyys @diamond_mamy ماعرفش  لايصح غ...      EG  \n",
       "458194  @MahmoudWaked7 @maganenoo في طريق مطروح مركز ب...      EG  \n",
       "458195  @FayedSasa للاسف شعب يجري وراء الازمات بيحبوا ...      EG  \n",
       "458196          @hanaramzy62 ردی بیکون هاتفرق معاک فی ایه      EG  \n",
       "\n",
       "[458197 rows x 3 columns]"
      ]
     },
     "execution_count": 2,
     "metadata": {},
     "output_type": "execute_result"
    }
   ],
   "source": [
    "data = pd.read_csv(\"new_dialect_dataset.csv\")\n",
    "data"
   ]
  },
  {
   "cell_type": "code",
   "execution_count": 3,
   "id": "21a73dc3",
   "metadata": {},
   "outputs": [
    {
     "name": "stdout",
     "output_type": "stream",
     "text": [
      "<class 'pandas.core.frame.DataFrame'>\n",
      "RangeIndex: 458197 entries, 0 to 458196\n",
      "Data columns (total 3 columns):\n",
      " #   Column   Non-Null Count   Dtype \n",
      "---  ------   --------------   ----- \n",
      " 0   id       458197 non-null  object\n",
      " 1   text     458197 non-null  object\n",
      " 2   dialect  458197 non-null  object\n",
      "dtypes: object(3)\n",
      "memory usage: 10.5+ MB\n"
     ]
    }
   ],
   "source": [
    "data.info()"
   ]
  },
  {
   "cell_type": "code",
   "execution_count": 4,
   "id": "0af73858",
   "metadata": {},
   "outputs": [
    {
     "data": {
      "text/plain": [
       "'@mohd4_samar لا بيكشفوا بالسماعه الان كده 😂😂 https://t.co/m4gVN5KDU9'"
      ]
     },
     "execution_count": 4,
     "metadata": {},
     "output_type": "execute_result"
    }
   ],
   "source": [
    "data.text[458144]"
   ]
  },
  {
   "cell_type": "code",
   "execution_count": 5,
   "id": "47863f04",
   "metadata": {},
   "outputs": [],
   "source": [
    "data['text']= process.clean(data['text'])"
   ]
  },
  {
   "cell_type": "code",
   "execution_count": 6,
   "id": "f4751e55",
   "metadata": {},
   "outputs": [
    {
     "data": {
      "text/html": [
       "<div>\n",
       "<style scoped>\n",
       "    .dataframe tbody tr th:only-of-type {\n",
       "        vertical-align: middle;\n",
       "    }\n",
       "\n",
       "    .dataframe tbody tr th {\n",
       "        vertical-align: top;\n",
       "    }\n",
       "\n",
       "    .dataframe thead th {\n",
       "        text-align: right;\n",
       "    }\n",
       "</style>\n",
       "<table border=\"1\" class=\"dataframe\">\n",
       "  <thead>\n",
       "    <tr style=\"text-align: right;\">\n",
       "      <th></th>\n",
       "      <th>id</th>\n",
       "      <th>text</th>\n",
       "      <th>dialect</th>\n",
       "    </tr>\n",
       "  </thead>\n",
       "  <tbody>\n",
       "    <tr>\n",
       "      <th>0</th>\n",
       "      <td>1121525449874604032</td>\n",
       "      <td>خميسالونيسانتو لحظ غلط هالأيام زعل</td>\n",
       "      <td>KW</td>\n",
       "    </tr>\n",
       "    <tr>\n",
       "      <th>1</th>\n",
       "      <td>1123251810955865984</td>\n",
       "      <td>حين قعد اضح يصر كتب اخر</td>\n",
       "      <td>KW</td>\n",
       "    </tr>\n",
       "    <tr>\n",
       "      <th>2</th>\n",
       "      <td>1124892962859683840</td>\n",
       "      <td>رجو عدم ألف رسل تها رمض عيد وبالنسبه لصر فكو ح...</td>\n",
       "      <td>KW</td>\n",
       "    </tr>\n",
       "    <tr>\n",
       "      <th>3</th>\n",
       "      <td>1127803659478290432</td>\n",
       "      <td>ارح تعد حوب هالمس بلغ ذنبوب معص</td>\n",
       "      <td>KW</td>\n",
       "    </tr>\n",
       "    <tr>\n",
       "      <th>4</th>\n",
       "      <td>1129889371375755264</td>\n",
       "      <td>سد فرغ شنب بعد سد فرغ عطف</td>\n",
       "      <td>KW</td>\n",
       "    </tr>\n",
       "    <tr>\n",
       "      <th>...</th>\n",
       "      <td>...</td>\n",
       "      <td>...</td>\n",
       "      <td>...</td>\n",
       "    </tr>\n",
       "    <tr>\n",
       "      <th>458192</th>\n",
       "      <td>1057418989293485952</td>\n",
       "      <td>هيال دي شكل هلو فين محل ده</td>\n",
       "      <td>EG</td>\n",
       "    </tr>\n",
       "    <tr>\n",
       "      <th>458193</th>\n",
       "      <td>1057775213113495552</td>\n",
       "      <td>ماعرفش يصح صحح</td>\n",
       "      <td>EG</td>\n",
       "    </tr>\n",
       "    <tr>\n",
       "      <th>458194</th>\n",
       "      <td>1055620304465215616</td>\n",
       "      <td>طرق طرح ركز بهج ركز جمب اسم ايه</td>\n",
       "      <td>EG</td>\n",
       "    </tr>\n",
       "    <tr>\n",
       "      <th>458195</th>\n",
       "      <td>1056641788851744768</td>\n",
       "      <td>لسف شعب يجر ورء ازم يحب طوابير زحم يحب يتب مين...</td>\n",
       "      <td>EG</td>\n",
       "    </tr>\n",
       "    <tr>\n",
       "      <th>458196</th>\n",
       "      <td>1060901120757907584</td>\n",
       "      <td>ردی بیک هاتفرق عاک فی ایه</td>\n",
       "      <td>EG</td>\n",
       "    </tr>\n",
       "  </tbody>\n",
       "</table>\n",
       "<p>458197 rows × 3 columns</p>\n",
       "</div>"
      ],
      "text/plain": [
       "                         id  \\\n",
       "0       1121525449874604032   \n",
       "1       1123251810955865984   \n",
       "2       1124892962859683840   \n",
       "3       1127803659478290432   \n",
       "4       1129889371375755264   \n",
       "...                     ...   \n",
       "458192  1057418989293485952   \n",
       "458193  1057775213113495552   \n",
       "458194  1055620304465215616   \n",
       "458195  1056641788851744768   \n",
       "458196  1060901120757907584   \n",
       "\n",
       "                                                     text dialect  \n",
       "0                      خميسالونيسانتو لحظ غلط هالأيام زعل      KW  \n",
       "1                                 حين قعد اضح يصر كتب اخر      KW  \n",
       "2       رجو عدم ألف رسل تها رمض عيد وبالنسبه لصر فكو ح...      KW  \n",
       "3                         ارح تعد حوب هالمس بلغ ذنبوب معص      KW  \n",
       "4                               سد فرغ شنب بعد سد فرغ عطف      KW  \n",
       "...                                                   ...     ...  \n",
       "458192                         هيال دي شكل هلو فين محل ده      EG  \n",
       "458193                                     ماعرفش يصح صحح      EG  \n",
       "458194                    طرق طرح ركز بهج ركز جمب اسم ايه      EG  \n",
       "458195  لسف شعب يجر ورء ازم يحب طوابير زحم يحب يتب مين...      EG  \n",
       "458196                          ردی بیک هاتفرق عاک فی ایه      EG  \n",
       "\n",
       "[458197 rows x 3 columns]"
      ]
     },
     "execution_count": 6,
     "metadata": {},
     "output_type": "execute_result"
    }
   ],
   "source": [
    "data"
   ]
  },
  {
   "cell_type": "code",
   "execution_count": 7,
   "id": "3b823337",
   "metadata": {},
   "outputs": [
    {
     "name": "stdout",
     "output_type": "stream",
     "text": [
      "<class 'pandas.core.frame.DataFrame'>\n",
      "RangeIndex: 458197 entries, 0 to 458196\n",
      "Data columns (total 3 columns):\n",
      " #   Column   Non-Null Count   Dtype \n",
      "---  ------   --------------   ----- \n",
      " 0   id       458197 non-null  object\n",
      " 1   text     458197 non-null  object\n",
      " 2   dialect  458197 non-null  object\n",
      "dtypes: object(3)\n",
      "memory usage: 10.5+ MB\n"
     ]
    }
   ],
   "source": [
    "data.info()"
   ]
  },
  {
   "cell_type": "code",
   "execution_count": 8,
   "id": "5f97538d",
   "metadata": {},
   "outputs": [
    {
     "data": {
      "text/plain": [
       "'ماعرفش يصح صحح'"
      ]
     },
     "execution_count": 8,
     "metadata": {},
     "output_type": "execute_result"
    }
   ],
   "source": [
    "data.text[458193]\n"
   ]
  },
  {
   "cell_type": "code",
   "execution_count": 8,
   "id": "c247b81c",
   "metadata": {},
   "outputs": [
    {
     "data": {
      "image/png": "[encoded data removed]",
      "text/plain": [
       "<Figure size 432x288 with 1 Axes>"
      ]
     },
     "metadata": {
      "needs_background": "light"
     },
     "output_type": "display_data"
    }
   ],
   "source": [
    "data.dialect.value_counts().plot(kind = 'bar');\n",
    "#plt.Figure(15,15)\n",
    "plt.title(\"The dialect counts on every country\");\n",
    "plt.show();"
   ]
  },
  {
   "cell_type": "code",
   "execution_count": 9,
   "id": "c5051b9c",
   "metadata": {},
   "outputs": [],
   "source": [
    "x = data.text.values\n",
    "y = data.dialect.values\n"
   ]
  },
  {
   "cell_type": "code",
   "execution_count": 11,
   "id": "70536f03",
   "metadata": {},
   "outputs": [],
   "source": [
    "#tfidf_vec = TfidfVectorizer()\n",
    "#x_transfom = tfidf_vec.fit_transform(x)\n"
   ]
  },
  {
   "cell_type": "code",
   "execution_count": 10,
   "id": "91166e39",
   "metadata": {},
   "outputs": [],
   "source": [
    "vectorizer = CountVectorizer()\n",
    "x_counts = vectorizer.fit_transform(x)\n",
    "\n",
    "tfidf_transformer = TfidfTransformer()\n",
    "x_tfidf = tfidf_transformer.fit_transform(x_counts)\n",
    "\n"
   ]
  },
  {
   "cell_type": "code",
   "execution_count": 11,
   "id": "d86c226a",
   "metadata": {},
   "outputs": [],
   "source": [
    "x_train, x_test, y_train, y_test = model_selection.train_test_split(x_tfidf,y,test_size=0.20, random_state=42)"
   ]
  },
  {
   "cell_type": "code",
   "execution_count": 12,
   "id": "07d1961a",
   "metadata": {},
   "outputs": [
    {
     "data": {
      "text/plain": [
       "(366557, 196485)"
      ]
     },
     "execution_count": 12,
     "metadata": {},
     "output_type": "execute_result"
    }
   ],
   "source": [
    "x_train.shape"
   ]
  },
  {
   "cell_type": "code",
   "execution_count": 13,
   "id": "8610ed01",
   "metadata": {},
   "outputs": [
    {
     "data": {
      "text/plain": [
       "(91640, 196485)"
      ]
     },
     "execution_count": 13,
     "metadata": {},
     "output_type": "execute_result"
    }
   ],
   "source": [
    "x_test.shape"
   ]
  },
  {
   "cell_type": "code",
   "execution_count": 14,
   "id": "3dbe0b95",
   "metadata": {},
   "outputs": [
    {
     "data": {
      "text/plain": [
       "MultinomialNB()"
      ]
     },
     "execution_count": 14,
     "metadata": {},
     "output_type": "execute_result"
    }
   ],
   "source": [
    "clf_nb = MultinomialNB()\n",
    "clf_nb.fit(x_train, y_train)"
   ]
  },
  {
   "cell_type": "code",
   "execution_count": 15,
   "id": "84030806",
   "metadata": {},
   "outputs": [],
   "source": [
    "y_predict = clf_nb.predict(x_test)"
   ]
  },
  {
   "cell_type": "code",
   "execution_count": 16,
   "id": "d2274071",
   "metadata": {},
   "outputs": [
    {
     "data": {
      "text/plain": [
       "array(['QA', 'PL', 'KW', ..., 'KW', 'PL', 'KW'], dtype='<U2')"
      ]
     },
     "execution_count": 16,
     "metadata": {},
     "output_type": "execute_result"
    }
   ],
   "source": [
    "y_predict"
   ]
  },
  {
   "cell_type": "code",
   "execution_count": 17,
   "id": "a89eadf4",
   "metadata": {},
   "outputs": [
    {
     "name": "stderr",
     "output_type": "stream",
     "text": [
      "C:\\Users\\Mohamed\\anaconda3\\lib\\site-packages\\sklearn\\metrics\\_classification.py:1248: UndefinedMetricWarning: Precision and F-score are ill-defined and being set to 0.0 in labels with no predicted samples. Use `zero_division` parameter to control this behavior.\n",
      "  _warn_prf(average, modifier, msg_start, len(result))\n",
      "C:\\Users\\Mohamed\\anaconda3\\lib\\site-packages\\sklearn\\metrics\\_classification.py:1248: UndefinedMetricWarning: Precision and F-score are ill-defined and being set to 0.0 in labels with no predicted samples. Use `zero_division` parameter to control this behavior.\n",
      "  _warn_prf(average, modifier, msg_start, len(result))\n"
     ]
    },
    {
     "name": "stdout",
     "output_type": "stream",
     "text": [
      "              precision    recall  f1-score   support\n",
      "\n",
      "          AE       0.66      0.08      0.14      5330\n",
      "          BH       0.68      0.03      0.07      5272\n",
      "          DZ       0.87      0.11      0.19      3164\n",
      "          EG       0.33      0.95      0.49     11715\n",
      "          IQ       0.95      0.06      0.11      3059\n",
      "          JO       0.64      0.04      0.07      5509\n",
      "          KW       0.26      0.74      0.38      8333\n",
      "          LB       0.77      0.30      0.43      5508\n",
      "          LY       0.57      0.48      0.52      7324\n",
      "          MA       0.98      0.12      0.21      2289\n",
      "          OM       0.87      0.02      0.03      3854\n",
      "          PL       0.28      0.60      0.38      8646\n",
      "          QA       0.49      0.31      0.38      6193\n",
      "          SA       0.59      0.06      0.11      5407\n",
      "          SD       0.95      0.04      0.08      2961\n",
      "          SY       0.94      0.02      0.04      3233\n",
      "          TN       1.00      0.01      0.02      1815\n",
      "          YE       0.00      0.00      0.00      2028\n",
      "\n",
      "    accuracy                           0.35     91640\n",
      "   macro avg       0.66      0.22      0.20     91640\n",
      "weighted avg       0.57      0.35      0.27     91640\n",
      "\n"
     ]
    },
    {
     "name": "stderr",
     "output_type": "stream",
     "text": [
      "C:\\Users\\Mohamed\\anaconda3\\lib\\site-packages\\sklearn\\metrics\\_classification.py:1248: UndefinedMetricWarning: Precision and F-score are ill-defined and being set to 0.0 in labels with no predicted samples. Use `zero_division` parameter to control this behavior.\n",
      "  _warn_prf(average, modifier, msg_start, len(result))\n"
     ]
    }
   ],
   "source": [
    "print(metrics.classification_report(y_test, y_predict))\n"
   ]
  },
  {
   "cell_type": "code",
   "execution_count": 25,
   "id": "46937ae9",
   "metadata": {},
   "outputs": [],
   "source": [
    "PAC= PassiveAggressiveClassifier()\n",
    "PAC.fit(x_train , y_train)\n",
    "y_pred = PAC.predict(x_test)"
   ]
  },
  {
   "cell_type": "code",
   "execution_count": 26,
   "id": "649bdf50",
   "metadata": {},
   "outputs": [
    {
     "name": "stdout",
     "output_type": "stream",
     "text": [
      "              precision    recall  f1-score   support\n",
      "\n",
      "          AE       0.30      0.28      0.29      5330\n",
      "          BH       0.25      0.24      0.24      5272\n",
      "          DZ       0.47      0.42      0.44      3164\n",
      "          EG       0.69      0.69      0.69     11715\n",
      "          IQ       0.44      0.43      0.43      3059\n",
      "          JO       0.25      0.29      0.27      5509\n",
      "          KW       0.41      0.42      0.41      8333\n",
      "          LB       0.46      0.55      0.50      5508\n",
      "          LY       0.51      0.55      0.53      7324\n",
      "          MA       0.56      0.48      0.52      2289\n",
      "          OM       0.24      0.23      0.24      3854\n",
      "          PL       0.37      0.41      0.39      8646\n",
      "          QA       0.38      0.38      0.38      6193\n",
      "          SA       0.30      0.24      0.27      5407\n",
      "          SD       0.52      0.43      0.47      2961\n",
      "          SY       0.29      0.21      0.25      3233\n",
      "          TN       0.40      0.34      0.37      1815\n",
      "          YE       0.16      0.16      0.16      2028\n",
      "\n",
      "    accuracy                           0.41     91640\n",
      "   macro avg       0.39      0.38      0.38     91640\n",
      "weighted avg       0.41      0.41      0.41     91640\n",
      "\n"
     ]
    }
   ],
   "source": [
    "print(metrics.classification_report(y_test, y_pred))"
   ]
  },
  {
   "cell_type": "code",
   "execution_count": 22,
   "id": "a46dfa1e",
   "metadata": {},
   "outputs": [
    {
     "name": "stdout",
     "output_type": "stream",
     "text": [
      "Requirement already satisfied: transformers in c:\\users\\mohamed\\anaconda3\\lib\\site-packages (4.17.0)\n",
      "Requirement already satisfied: regex!=2019.12.17 in c:\\users\\mohamed\\anaconda3\\lib\\site-packages (from transformers) (2021.8.3)\n",
      "Requirement already satisfied: sacremoses in c:\\users\\mohamed\\anaconda3\\lib\\site-packages (from transformers) (0.0.47)\n",
      "Requirement already satisfied: tqdm>=4.27 in c:\\users\\mohamed\\anaconda3\\lib\\site-packages (from transformers) (4.62.3)\n",
      "Requirement already satisfied: huggingface-hub<1.0,>=0.1.0 in c:\\users\\mohamed\\anaconda3\\lib\\site-packages (from transformers) (0.4.0)\n",
      "Requirement already satisfied: numpy>=1.17 in c:\\users\\mohamed\\anaconda3\\lib\\site-packages (from transformers) (1.22.3)\n",
      "Requirement already satisfied: packaging>=20.0 in c:\\users\\mohamed\\anaconda3\\lib\\site-packages (from transformers) (21.0)\n",
      "Requirement already satisfied: filelock in c:\\users\\mohamed\\anaconda3\\lib\\site-packages (from transformers) (3.3.1)\n",
      "Requirement already satisfied: tokenizers!=0.11.3,>=0.11.1 in c:\\users\\mohamed\\anaconda3\\lib\\site-packages (from transformers) (0.11.6)\n",
      "Requirement already satisfied: requests in c:\\users\\mohamed\\anaconda3\\lib\\site-packages (from transformers) (2.26.0)\n",
      "Requirement already satisfied: pyyaml>=5.1 in c:\\users\\mohamed\\anaconda3\\lib\\site-packages (from transformers) (6.0)\n",
      "Requirement already satisfied: typing-extensions>=3.7.4.3 in c:\\users\\mohamed\\anaconda3\\lib\\site-packages (from huggingface-hub<1.0,>=0.1.0->transformers) (3.10.0.2)\n",
      "Requirement already satisfied: pyparsing>=2.0.2 in c:\\users\\mohamed\\anaconda3\\lib\\site-packages (from packaging>=20.0->transformers) (3.0.4)\n",
      "Requirement already satisfied: colorama in c:\\users\\mohamed\\anaconda3\\lib\\site-packages (from tqdm>=4.27->transformers) (0.4.4)\n",
      "Requirement already satisfied: urllib3<1.27,>=1.21.1 in c:\\users\\mohamed\\anaconda3\\lib\\site-packages (from requests->transformers) (1.26.7)\n",
      "Requirement already satisfied: certifi>=2017.4.17 in c:\\users\\mohamed\\anaconda3\\lib\\site-packages (from requests->transformers) (2021.10.8)\n",
      "Requirement already satisfied: idna<4,>=2.5 in c:\\users\\mohamed\\anaconda3\\lib\\site-packages (from requests->transformers) (3.2)\n",
      "Requirement already satisfied: charset-normalizer~=2.0.0 in c:\\users\\mohamed\\anaconda3\\lib\\site-packages (from requests->transformers) (2.0.4)\n",
      "Requirement already satisfied: six in c:\\users\\mohamed\\anaconda3\\lib\\site-packages (from sacremoses->transformers) (1.16.0)\n",
      "Requirement already satisfied: joblib in c:\\users\\mohamed\\anaconda3\\lib\\site-packages (from sacremoses->transformers) (1.1.0)\n",
      "Requirement already satisfied: click in c:\\users\\mohamed\\anaconda3\\lib\\site-packages (from sacremoses->transformers) (8.0.3)\n"
     ]
    }
   ],
   "source": [
    "!pip install transformers"
   ]
  },
  {
   "cell_type": "code",
   "execution_count": 21,
   "id": "f5ef3187",
   "metadata": {},
   "outputs": [],
   "source": [
    "import torch\n",
    "from torch import nn\n",
    "import torch.nn.functional as F\n",
    "from torch.utils.data import Dataset, DataLoader,TensorDataset\n",
    "from transformers import AutoTokenizer, AutoModelForSequenceClassification\n",
    "from tqdm.auto import tqdm\n"
   ]
  },
  {
   "cell_type": "code",
   "execution_count": 24,
   "id": "48a1d4e0",
   "metadata": {},
   "outputs": [
    {
     "data": {
      "text/plain": [
       "55"
      ]
     },
     "execution_count": 24,
     "metadata": {},
     "output_type": "execute_result"
    }
   ],
   "source": [
    "len(max(data.text))"
   ]
  },
  {
   "cell_type": "code",
   "execution_count": 26,
   "id": "224a5071",
   "metadata": {},
   "outputs": [
    {
     "data": {
      "text/plain": [
       "array(['KW', 'AE', 'PL', 'MA', 'IQ', 'SA', 'OM', 'TN', 'YE', 'SD', 'SY',\n",
       "       'BH', 'JO', 'LY', 'LB', 'DZ', 'QA', 'EG'], dtype=object)"
      ]
     },
     "execution_count": 26,
     "metadata": {},
     "output_type": "execute_result"
    }
   ],
   "source": [
    "countries_labels = data.dialect.unique()\n",
    "countries_labels "
   ]
  },
  {
   "cell_type": "code",
   "execution_count": 27,
   "id": "5acf26ee",
   "metadata": {},
   "outputs": [],
   "source": [
    "targets = {k: v for v, k in enumerate(countries_labels)}\n",
    "\n",
    "data['target'] = data['dialect'].apply(lambda x : targets[x])\n",
    "\n"
   ]
  },
  {
   "cell_type": "code",
   "execution_count": 28,
   "id": "e3020423",
   "metadata": {},
   "outputs": [],
   "source": [
    "tokenizer = AutoTokenizer.from_pretrained(\"CAMeL-Lab/bert-base-arabic-camelbert-da-sentiment\")"
   ]
  },
  {
   "cell_type": "code",
   "execution_count": 29,
   "id": "1d8d9ac7",
   "metadata": {},
   "outputs": [],
   "source": [
    "TEXT_MAX_LEN = 60 \n",
    "#Data loader \n",
    "class MyDataset(Dataset):\n",
    "    def __init__(self,data: pd.DataFrame = data,tokenizer = tokenizer,text_max_token_len: int = TEXT_MAX_LEN,):\n",
    "        \n",
    "        self.tokenizer = tokenizer\n",
    "        self.data = data\n",
    "        self.text_max_token_len = text_max_token_len\n",
    "    \n",
    "    def __len__(self):\n",
    "        return len(self.data)\n",
    "\n",
    "    def __getitem__(self, index: int):\n",
    "        data_row = self.data.iloc[index]\n",
    "\n",
    "        text = data_row['text']\n",
    "\n",
    "        text_encoding = tokenizer(\n",
    "            text,\n",
    "            max_length=self.text_max_token_len,\n",
    "            padding='max_length',\n",
    "            truncation=True,\n",
    "            return_attention_mask=True,\n",
    "            add_special_tokens=True,\n",
    "            return_tensors='pt'\n",
    "        )\n",
    "\n",
    "        target = data['target']\n",
    "        \n",
    "        return dict(\n",
    "            input_ids=text_encoding['input_ids'].flatten(),\n",
    "            attention_mask=text_encoding['attention_mask'].flatten(),\n",
    "            target=torch.tensor(target, dtype=torch.long),\n",
    "        )"
   ]
  },
  {
   "cell_type": "code",
   "execution_count": 30,
   "id": "bee5090d",
   "metadata": {},
   "outputs": [],
   "source": [
    "class AraBERTModel(nn.Module):\n",
    "    def __init__(self):\n",
    "        super(AraBERTModel, self).__init__()\n",
    "        self.arabert = AutoModelForSequenceClassification.from_pretrained(\n",
    "            \"CAMeL-Lab/bert-base-arabic-camelbert-da-sentiment\"\n",
    "        )\n",
    "        self.arabert.classifier = nn.Linear(in_features=768, out_features=18, bias=True)\n",
    "\n",
    "    def forward(self, input_ids, attention_mask):\n",
    "        output = self.arabert(input_ids, attention_mask=attention_mask)\n",
    "        return output"
   ]
  },
  {
   "cell_type": "code",
   "execution_count": 34,
   "id": "c6a1e633",
   "metadata": {},
   "outputs": [],
   "source": [
    "train, test = model_selection.train_test_split(data,test_size=0.30, random_state=42)\n",
    "\n",
    "train_dataset = MyDataset(train, tokenizer)\n",
    "train_dataloader = DataLoader(train_dataset, shuffle=True, batch_size=512)\n",
    "\n",
    "test_dataset = MyDataset(test, tokenizer)\n",
    "test_dataloader = DataLoader(test_dataset, shuffle=True, batch_size=512)"
   ]
  },
  {
   "cell_type": "code",
   "execution_count": null,
   "id": "f3a8a833",
   "metadata": {},
   "outputs": [
    {
     "data": {
      "application/vnd.jupyter.widget-view+json": {
       "model_id": "79ab1901861d49729ad6a56f52b846bb",
       "version_major": 2,
       "version_minor": 0
      },
      "text/plain": [
       "  0%|          | 0/6270 [00:00<?, ?it/s]"
      ]
     },
     "metadata": {},
     "output_type": "display_data"
    }
   ],
   "source": [
    "device = torch.device(\"cuda\" if torch.cuda.is_available() else \"cpu\")\n",
    "\n",
    "model = AraBERTModel()\n",
    "model.to(device)\n",
    "\n",
    "criterion = nn.MSELoss()\n",
    "optimizer = torch.optim.Adam(model.parameters(), lr=0.001)\n",
    "\n",
    "num_epochs = 10\n",
    "\n",
    "num_training_steps = num_epochs * len(train_dataloader)\n",
    "progress_bar = tqdm(range(num_training_steps))\n",
    "\n",
    "model.train()\n",
    "for epoch in range(num_epochs):\n",
    "    for batch in train_dataloader:\n",
    "        batch = {k: v.to(device) for k, v in batch.items()}\n",
    "        \n",
    "        outputs = model(batch['input_ids'], batch['attention_mask'])\n",
    "        logits = outputs.logits\n",
    "\n",
    "        loss = criterion(logits, batch['target'])\n",
    "        loss.backward()\n",
    "        \n",
    "        optimizer.step()\n",
    "        \n",
    "        optimizer.zero_grad()\n",
    "        progress_bar.update()\n",
    "    \n",
    "    torch.save(model, './arabert_dialect.pth')\n",
    "    print(f'epoch: {epoch} -- loss: {loss}')"
   ]
  },
  {
   "cell_type": "code",
   "execution_count": 18,
   "id": "26bbbf63",
   "metadata": {},
   "outputs": [],
   "source": [
    "from sklearn.neural_network import MLPClassifier"
   ]
  },
  {
   "cell_type": "code",
   "execution_count": 19,
   "id": "ee77faab",
   "metadata": {},
   "outputs": [
    {
     "name": "stderr",
     "output_type": "stream",
     "text": [
      "C:\\Users\\Mohamed\\anaconda3\\lib\\site-packages\\sklearn\\neural_network\\_multilayer_perceptron.py:614: ConvergenceWarning: Stochastic Optimizer: Maximum iterations (1) reached and the optimization hasn't converged yet.\n",
      "  warnings.warn(\n"
     ]
    },
    {
     "data": {
      "text/plain": [
       "MLPClassifier(alpha=0.1, hidden_layer_sizes=(60,), learning_rate_init=0.1,\n",
       "              max_iter=1)"
      ]
     },
     "execution_count": 19,
     "metadata": {},
     "output_type": "execute_result"
    }
   ],
   "source": [
    "clf = MLPClassifier(hidden_layer_sizes=(60,)\n",
    "                     ,activation='relu',\n",
    "                    solver='adam',\n",
    "                    alpha=0.1,\n",
    "                    learning_rate_init=0.1,\n",
    "                    max_iter=1) \n",
    "clf.fit(x_train, y_train)"
   ]
  },
  {
   "cell_type": "code",
   "execution_count": 20,
   "id": "a4075349",
   "metadata": {},
   "outputs": [
    {
     "name": "stderr",
     "output_type": "stream",
     "text": [
      "C:\\Users\\Mohamed\\anaconda3\\lib\\site-packages\\sklearn\\metrics\\_classification.py:1248: UndefinedMetricWarning: Precision and F-score are ill-defined and being set to 0.0 in labels with no predicted samples. Use `zero_division` parameter to control this behavior.\n",
      "  _warn_prf(average, modifier, msg_start, len(result))\n",
      "C:\\Users\\Mohamed\\anaconda3\\lib\\site-packages\\sklearn\\metrics\\_classification.py:1248: UndefinedMetricWarning: Precision and F-score are ill-defined and being set to 0.0 in labels with no predicted samples. Use `zero_division` parameter to control this behavior.\n",
      "  _warn_prf(average, modifier, msg_start, len(result))\n"
     ]
    },
    {
     "name": "stdout",
     "output_type": "stream",
     "text": [
      "              precision    recall  f1-score   support\n",
      "\n",
      "          AE       0.13      0.11      0.12      5330\n",
      "          BH       0.10      0.01      0.02      5272\n",
      "          DZ       0.34      0.13      0.18      3164\n",
      "          EG       0.44      0.73      0.55     11715\n",
      "          IQ       0.46      0.11      0.18      3059\n",
      "          JO       0.00      0.00      0.00      5509\n",
      "          KW       0.21      0.29      0.25      8333\n",
      "          LB       0.30      0.46      0.36      5508\n",
      "          LY       0.21      0.52      0.30      7324\n",
      "          MA       0.49      0.16      0.24      2289\n",
      "          OM       0.00      0.00      0.00      3854\n",
      "          PL       0.28      0.32      0.30      8646\n",
      "          QA       0.20      0.43      0.27      6193\n",
      "          SA       0.18      0.05      0.08      5407\n",
      "          SD       0.48      0.18      0.26      2961\n",
      "          SY       0.25      0.00      0.00      3233\n",
      "          TN       0.00      0.00      0.00      1815\n",
      "          YE       0.00      0.00      0.00      2028\n",
      "\n",
      "    accuracy                           0.28     91640\n",
      "   macro avg       0.23      0.20      0.17     91640\n",
      "weighted avg       0.24      0.28      0.22     91640\n",
      "\n"
     ]
    },
    {
     "name": "stderr",
     "output_type": "stream",
     "text": [
      "C:\\Users\\Mohamed\\anaconda3\\lib\\site-packages\\sklearn\\metrics\\_classification.py:1248: UndefinedMetricWarning: Precision and F-score are ill-defined and being set to 0.0 in labels with no predicted samples. Use `zero_division` parameter to control this behavior.\n",
      "  _warn_prf(average, modifier, msg_start, len(result))\n"
     ]
    }
   ],
   "source": [
    "y_pred = clf.predict(x_test)\n",
    "print(metrics.classification_report(y_test, y_pred))"
   ]
  },
  {
   "cell_type": "markdown",
   "id": "282d314f",
   "metadata": {},
   "source": [
    "# take long Time of Train in one iterations same problem with LSTM the AraBERT Is best Model "
   ]
  },
  {
   "cell_type": "code",
   "execution_count": null,
   "id": "1580cf24",
   "metadata": {},
   "outputs": [],
   "source": []
  }
 ],
 "metadata": {
  "kernelspec": {
   "display_name": "Python 3 (ipykernel)",
   "language": "python",
   "name": "python3"
  },
  "language_info": {
   "codemirror_mode": {
    "name": "ipython",
    "version": 3
   },
   "file_extension": ".py",
   "mimetype": "text/x-python",
   "name": "python",
   "nbconvert_exporter": "python",
   "pygments_lexer": "ipython3",
   "version": "3.9.7"
  }
 },
 "nbformat": 4,
 "nbformat_minor": 5
}
